{
 "cells": [
  {
   "cell_type": "markdown",
   "id": "669d243c-beea-4311-befb-26dfb32fbdc3",
   "metadata": {},
   "source": [
    "在 Qt Designer 中，可以使用 `QUiLoader` 类来自动加载 `.ui` 文件并将其转换为一个 Python 对象。以下是一个简单的示例，演示如何使用 `QUiLoader` 加载 `.ui` 文件：\n",
    "\n",
    "```python\n",
    "from PyQt5.QtWidgets import QApplication, QMainWindow, QUiLoader\n",
    "\n",
    "class MyWindow(QMainWindow):\n",
    "    def __init__(self):\n",
    "        super().__init__()\n",
    "\n",
    "        # 创建一个 QUiLoader 实例\n",
    "        loader = QUiLoader()\n",
    "\n",
    "        # 使用 QUiLoader 加载 .ui 文件\n",
    "        ui_file = QFile(\"my_ui_file.ui\")  # 替换为您的 .ui 文件路径\n",
    "        ui_file.open(QFile.ReadOnly)\n",
    "        self.ui_widget = loader.load(ui_file, self)\n",
    "        ui_file.close()\n",
    "\n",
    "        # 将加载的 UI 部件设置为主窗口的中央部件\n",
    "        self.setCentralWidget(self.ui_widget)\n",
    "\n",
    "if __name__ == \"__main__\":\n",
    "    app = QApplication(sys.argv)\n",
    "    window = MyWindow()\n",
    "    window.show()\n",
    "    sys.exit(app.exec_())\n",
    "```\n",
    "\n",
    "在这个示例中，我们首先创建了一个 `QUiLoader` 实例，然后使用 `QUiLoader` 的 `load` 方法加载指定的 `.ui` 文件。您需要将 `\"my_ui_file.ui\"` 替换为您自己的 `.ui` 文件的路径。\n",
    "\n",
    "加载 `.ui` 文件后，我们将其设置为主窗口的中央部件，以便在窗口中显示它。\n",
    "\n",
    "请确保您已经安装了 PyQt5 并导入了必要的模块，以便成功运行此示例。"
   ]
  },
  {
   "cell_type": "code",
   "execution_count": null,
   "id": "8581e6ba-7a1c-45ac-a42f-0b6f171da5f2",
   "metadata": {},
   "outputs": [],
   "source": []
  }
 ],
 "metadata": {
  "kernelspec": {
   "display_name": "Python 3 (ipykernel)",
   "language": "python",
   "name": "python3"
  },
  "language_info": {
   "codemirror_mode": {
    "name": "ipython",
    "version": 3
   },
   "file_extension": ".py",
   "mimetype": "text/x-python",
   "name": "python",
   "nbconvert_exporter": "python",
   "pygments_lexer": "ipython3",
   "version": "3.9.13"
  }
 },
 "nbformat": 4,
 "nbformat_minor": 5
}
