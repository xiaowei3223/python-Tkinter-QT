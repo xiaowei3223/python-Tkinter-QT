{
 "cells": [
  {
   "cell_type": "markdown",
   "id": "2aa74a8d-2ba2-4847-abe8-386ab469cb53",
   "metadata": {},
   "source": [
    "# 简单示例\n",
    "\n",
    "下面是一个简单的Qt示例，它创建一个基本的GUI窗口，包含一个标签（QLabel）和一个按钮（QPushButton）。当按钮被点击时，标签上的文本会发生变化。这个示例使用Python和PyQt库来实现。\n",
    "\n",
    "首先，确保您已经安装了PyQt库。如果没有安装，可以使用pip进行安装：\n",
    "\n",
    "```bash\n",
    "pip install PyQt5\n",
    "```\n",
    "\n",
    "接下来，您可以创建一个简单的Qt应用程序示例：\n",
    "\n",
    "```python\n",
    "import sys\n",
    "from PyQt5.QtWidgets import QApplication, QWidget, QLabel, QPushButton\n",
    "\n",
    "class MyWindow(QWidget):\n",
    "    def __init__(self):\n",
    "        super().__init__()\n",
    "        \n",
    "        # 设置窗口标题\n",
    "        self.setWindowTitle(\"简单的Qt示例\")\n",
    "        \n",
    "        # 设置窗口大小\n",
    "        self.setGeometry(100, 100, 400, 200)\n",
    "        \n",
    "        # 创建标签\n",
    "        self.label = QLabel(self)\n",
    "        self.label.setText(\"Hello, Qt!\")\n",
    "        self.label.setGeometry(150, 50, 100, 30)\n",
    "        \n",
    "        # 创建按钮\n",
    "        self.button = QPushButton(self)\n",
    "        self.button.setText(\"点击我\")\n",
    "        self.button.setGeometry(150, 100, 100, 30)\n",
    "        \n",
    "        # 按钮点击事件\n",
    "        self.button.clicked.connect(self.change_text)\n",
    "        \n",
    "    def change_text(self):\n",
    "        # 按钮点击时修改标签文本\n",
    "        self.label.setText(\"Hello, PyQt!\")\n",
    "\n",
    "if __name__ == \"__main__\":\n",
    "    app = QApplication(sys.argv)\n",
    "    window = MyWindow()\n",
    "    window.show()\n",
    "    sys.exit(app.exec_())\n",
    "```\n",
    "\n",
    "这个示例创建了一个简单的窗口，包括一个标签和一个按钮。当按钮被点击时，标签上的文本会从\"Hello, Qt!\"变为\"Hello, PyQt!\"。您可以运行这个示例来查看一个基本的Qt应用程序是如何工作的。请确保将上述代码保存在一个Python文件中，并使用Python解释器运行它。"
   ]
  },
  {
   "cell_type": "code",
   "execution_count": null,
   "id": "7f49ea78-7b24-4b4e-a33e-c9836f1fa1b6",
   "metadata": {},
   "outputs": [],
   "source": []
  }
 ],
 "metadata": {
  "kernelspec": {
   "display_name": "Python 3 (ipykernel)",
   "language": "python",
   "name": "python3"
  },
  "language_info": {
   "codemirror_mode": {
    "name": "ipython",
    "version": 3
   },
   "file_extension": ".py",
   "mimetype": "text/x-python",
   "name": "python",
   "nbconvert_exporter": "python",
   "pygments_lexer": "ipython3",
   "version": "3.9.13"
  }
 },
 "nbformat": 4,
 "nbformat_minor": 5
}
