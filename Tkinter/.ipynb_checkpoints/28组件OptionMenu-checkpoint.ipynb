{
 "cells": [
  {
   "cell_type": "markdown",
   "id": "9a9b0f49-5519-414a-b8ad-546a5768db9b",
   "metadata": {},
   "source": [
    "`OptionMenu` 是 Tkinter 中的一个组件，它允许用户从一个下拉列表中选择一个选项。与 `MenuButton` 不同，`OptionMenu` 主要用于提供选项的选择，而不是弹出自定义的菜单。以下是关于 `OptionMenu` 的详细介绍以及使用示例：\n",
    "\n",
    "### 创建 `OptionMenu` 组件\n",
    "\n",
    "要创建一个 `OptionMenu` 组件，你需要执行以下步骤：\n",
    "\n",
    "1. 导入 Tkinter 库。\n",
    "2. 创建一个 Tkinter 主窗口。\n",
    "3. 创建一个变量，用于存储选中的选项。\n",
    "4. 创建一个 `OptionMenu` 组件，并将其与选项列表和变量关联。\n",
    "\n",
    "### 示例\n",
    "\n",
    "以下是一个示例，演示了如何创建一个包含选项列表的 `OptionMenu` 组件：\n",
    "\n",
    "```python\n",
    "import tkinter as tk\n",
    "from tkinter import ttk\n",
    "\n",
    "def on_option_selected(event):\n",
    "    selected_option = option_var.get()\n",
    "    result_label.config(text=f\"Selected Option: {selected_option}\")\n",
    "\n",
    "root = tk.Tk()\n",
    "root.title(\"OptionMenu Example\")\n",
    "\n",
    "# 创建一个变量用于存储选中的选项\n",
    "option_var = tk.StringVar()\n",
    "\n",
    "# 创建一个 OptionMenu 组件\n",
    "option_menu = ttk.OptionMenu(root, option_var, \"Option 1\", \"Option 2\", \"Option 3\")\n",
    "option_menu.pack()\n",
    "\n",
    "# 创建一个标签来显示选中的选项\n",
    "result_label = tk.Label(root, text=\"Selected Option: \")\n",
    "result_label.pack()\n",
    "\n",
    "# 绑定事件处理程序，以在选项变化时执行操作\n",
    "option_var.trace(\"w\", on_option_selected)\n",
    "\n",
    "root.mainloop()\n",
    "```\n",
    "\n",
    "在这个示例中，我们首先创建了一个 Tkinter 主窗口 `root`，然后创建了一个 `OptionMenu` 组件 `option_menu`。我们还创建了一个 `StringVar` 变量 `option_var`，用于存储选中的选项。\n",
    "\n",
    "然后，我们使用 `ttk.OptionMenu()` 构造函数来创建 `OptionMenu` 组件，并将其关联到 `option_var` 变量以及一组选项。用户可以从下拉列表中选择一个选项。\n",
    "\n",
    "我们还创建了一个标签 `result_label`，用于显示选中的选项。绑定了 `option_var` 的 `trace()` 方法，以在选项变化时执行事件处理程序 `on_option_selected`。\n",
    "\n",
    "运行示例后，你将看到一个包含选项列表的 `OptionMenu` 组件，用户可以点击下拉箭头来选择选项。选择的选项将在标签中显示。这个示例演示了如何创建和使用 `OptionMenu` 组件来提供选项的选择功能。你可以根据需要自定义选项列表和操作。"
   ]
  }
 ],
 "metadata": {
  "kernelspec": {
   "display_name": "Python 3 (ipykernel)",
   "language": "python",
   "name": "python3"
  },
  "language_info": {
   "codemirror_mode": {
    "name": "ipython",
    "version": 3
   },
   "file_extension": ".py",
   "mimetype": "text/x-python",
   "name": "python",
   "nbconvert_exporter": "python",
   "pygments_lexer": "ipython3",
   "version": "3.9.13"
  }
 },
 "nbformat": 4,
 "nbformat_minor": 5
}
