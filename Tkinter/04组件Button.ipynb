{
 "cells": [
  {
   "cell_type": "markdown",
   "id": "186cc5be-0929-4341-8e97-2119694d853e",
   "metadata": {},
   "source": [
    "`Button` 是 Tkinter 中用于创建按钮的组件。以下是一个示例，演示如何创建一个简单的按钮，以及如何设置其常见属性和事件处理。\n",
    "\n",
    "```python\n",
    "import tkinter as tk\n",
    "\n",
    "# 创建主窗口\n",
    "root = tk.Tk()\n",
    "root.title(\"Button Example\")\n",
    "\n",
    "# 创建按钮\n",
    "def button_click():\n",
    "    label.config(text=\"Button Clicked!\")\n",
    "\n",
    "button = tk.Button(root, text=\"Click Me\", command=button_click)\n",
    "\n",
    "# 设置按钮的一些常见属性\n",
    "button.config(\n",
    "    width=15,        # 按钮宽度\n",
    "    height=2,        # 按钮高度\n",
    "    font=(\"Arial\", 12),  # 字体和字号\n",
    "    bg=\"lightblue\",  # 背景颜色\n",
    "    fg=\"navy\"        # 文本颜色\n",
    ")\n",
    "\n",
    "# 将按钮添加到窗口\n",
    "button.pack()\n",
    "\n",
    "# 创建用于显示按钮点击的 Label\n",
    "label = tk.Label(root, text=\"\")\n",
    "label.pack()\n",
    "\n",
    "# 启动主循环\n",
    "root.mainloop()\n",
    "```\n",
    "\n",
    "在上述示例中，我们首先创建一个主窗口 `root` 并设置标题。然后，我们创建了一个 `Button` 组件，将其文本设置为 \"Click Me\"，并为按钮设置了 `command` 参数，该参数指定了按钮点击时要调用的事件处理函数 `button_click`。\n",
    "\n",
    "接下来，我们使用 `config` 方法设置了一些常见属性：\n",
    "\n",
    "- `width` 和 `height` 参数分别用于设置按钮的宽度和高度。\n",
    "- `font` 参数用于设置按钮文本的字体和字号。\n",
    "- `bg` 参数用于设置按钮的背景颜色。\n",
    "- `fg` 参数用于设置按钮文本的颜色。\n",
    "\n",
    "然后，我们使用 `pack` 方法将按钮添加到窗口，并创建了一个用于显示按钮点击的 `Label` 组件。\n",
    "\n",
    "最后，我们启动了 Tkinter 的主循环，以显示窗口和按钮。当用户点击按钮时，按钮的点击事件处理函数 `button_click` 将被调用，标签文本将更新为 \"Button Clicked!\"。\n",
    "\n",
    "你可以根据具体的应用需求自定义按钮的外观和行为，例如更改字体、颜色、大小，或为按钮添加更复杂的事件处理逻辑。Tkinter 的按钮是创建交互性强的图形用户界面的重要组件之一。"
   ]
  },
  {
   "cell_type": "code",
   "execution_count": null,
   "id": "3aff9773-ee66-4917-95d8-e983e18f830c",
   "metadata": {},
   "outputs": [],
   "source": []
  }
 ],
 "metadata": {
  "kernelspec": {
   "display_name": "Python 3 (ipykernel)",
   "language": "python",
   "name": "python3"
  },
  "language_info": {
   "codemirror_mode": {
    "name": "ipython",
    "version": 3
   },
   "file_extension": ".py",
   "mimetype": "text/x-python",
   "name": "python",
   "nbconvert_exporter": "python",
   "pygments_lexer": "ipython3",
   "version": "3.9.13"
  }
 },
 "nbformat": 4,
 "nbformat_minor": 5
}
