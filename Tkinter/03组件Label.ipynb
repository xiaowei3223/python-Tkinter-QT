{
 "cells": [
  {
   "cell_type": "markdown",
   "id": "3281b608-3e7d-4ae6-b627-b2801c3b3419",
   "metadata": {},
   "source": [
    "`Label` 是 Tkinter 中用于显示静态文本或图像的组件。下面是一个示例，演示了如何创建 `Label` 组件、设置其常见参数，并将其添加到窗口中。\n",
    "\n",
    "```python\n",
    "import tkinter as tk\n",
    "\n",
    "# 创建主窗口\n",
    "root = tk.Tk()\n",
    "root.title(\"Label Example\")\n",
    "\n",
    "# 创建 Label 组件\n",
    "label = tk.Label(root, text=\"Hello, Tkinter!\")\n",
    "\n",
    "# 设置 Label 的一些常见参数\n",
    "label.config(\n",
    "    font=(\"Arial\", 18),   # 设置字体和字号\n",
    "    bg=\"lightblue\",       # 设置背景颜色\n",
    "    fg=\"navy\",            # 设置文本颜色\n",
    "    padx=20,              # 设置水平内边距\n",
    "    pady=10               # 设置垂直内边距\n",
    ")\n",
    "\n",
    "# 将 Label 添加到窗口\n",
    "label.pack()\n",
    "\n",
    "# 启动主循环\n",
    "root.mainloop()\n",
    "```\n",
    "\n",
    "在上述示例中，我们首先导入 `tkinter` 模块，创建了一个主窗口 `root`，并为窗口设置标题。接下来，我们创建了一个 `Label` 组件，并使用 `config` 方法设置了一些常见参数：\n",
    "\n",
    "- `text` 参数用于设置 Label 显示的文本。\n",
    "- `font` 参数用于设置文本的字体和字号。\n",
    "- `bg` 参数用于设置背景颜色。\n",
    "- `fg` 参数用于设置文本颜色。\n",
    "- `padx` 和 `pady` 参数用于设置水平和垂直内边距。\n",
    "\n",
    "最后，我们使用 `pack` 方法将 Label 添加到窗口，并通过调用 `mainloop` 启动了主循环，以便显示窗口和 Label。\n",
    "\n",
    "你可以根据需要自定义 Label 的外观和属性，例如字体、颜色、对齐方式等。这是一个基本的示例，你可以根据具体的应用需求进行更复杂的设置和布局。"
   ]
  },
  {
   "cell_type": "code",
   "execution_count": null,
   "id": "fe718bed-e0bf-4e57-a3fe-89d0ef41a58e",
   "metadata": {},
   "outputs": [],
   "source": []
  }
 ],
 "metadata": {
  "kernelspec": {
   "display_name": "Python 3 (ipykernel)",
   "language": "python",
   "name": "python3"
  },
  "language_info": {
   "codemirror_mode": {
    "name": "ipython",
    "version": 3
   },
   "file_extension": ".py",
   "mimetype": "text/x-python",
   "name": "python",
   "nbconvert_exporter": "python",
   "pygments_lexer": "ipython3",
   "version": "3.9.13"
  }
 },
 "nbformat": 4,
 "nbformat_minor": 5
}
