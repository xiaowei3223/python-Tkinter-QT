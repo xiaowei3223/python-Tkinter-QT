{
 "cells": [
  {
   "cell_type": "markdown",
   "id": "59495e32-94dd-41ce-8b1f-45856481d9fd",
   "metadata": {},
   "source": [
    "以下是一个简单的 Tkinter 示例，它创建一个包含标签和按钮的窗口，并在点击按钮时更新标签的文本：\n",
    "\n",
    "```python\n",
    "import tkinter as tk\n",
    "\n",
    "# 创建主窗口\n",
    "root = tk.Tk()\n",
    "root.title(\"Tkinter Simple Example\")\n",
    "\n",
    "# 创建标签\n",
    "label = tk.Label(root, text=\"Hello, Tkinter!\")\n",
    "label.pack(pady=10)  # 设置垂直间距\n",
    "\n",
    "# 创建按钮点击事件处理函数\n",
    "def button_click():\n",
    "    label.config(text=\"Button Clicked!\")\n",
    "\n",
    "# 创建按钮\n",
    "button = tk.Button(root, text=\"Click Me\", command=button_click)\n",
    "button.pack()\n",
    "\n",
    "# 启动主循环\n",
    "root.mainloop()\n",
    "```\n",
    "\n",
    "运行此代码将创建一个窗口，窗口包含一个标签和一个按钮。初始标签文本为 \"Hello, Tkinter!\"，当点击按钮时，按钮的点击事件处理函数 `button_click` 将被调用，标签的文本将更新为 \"Button Clicked!\"。\n",
    "\n",
    "这只是一个 Tkinter 的简单示例，用于展示基本的窗口和组件创建、事件处理以及主循环的使用。你可以根据需要扩展和定制界面，添加更多的组件和功能。Tkinter 提供了丰富的功能，用于创建各种类型的 GUI 应用程序。"
   ]
  },
  {
   "cell_type": "code",
   "execution_count": null,
   "id": "8bdbd744-d14a-4a9d-a8b4-f445c809a7da",
   "metadata": {},
   "outputs": [],
   "source": []
  }
 ],
 "metadata": {
  "kernelspec": {
   "display_name": "Python 3 (ipykernel)",
   "language": "python",
   "name": "python3"
  },
  "language_info": {
   "codemirror_mode": {
    "name": "ipython",
    "version": 3
   },
   "file_extension": ".py",
   "mimetype": "text/x-python",
   "name": "python",
   "nbconvert_exporter": "python",
   "pygments_lexer": "ipython3",
   "version": "3.9.13"
  }
 },
 "nbformat": 4,
 "nbformat_minor": 5
}
